{
 "cells": [
  {
   "cell_type": "markdown",
   "metadata": {},
   "source": [
    "# Mean Sqaure Error"
   ]
  },
  {
   "cell_type": "code",
   "execution_count": 6,
   "metadata": {},
   "outputs": [],
   "source": [
    "import pandas as pd\n",
    "import matplotlib.pyplot as plt\n",
    "import numpy as np"
   ]
  },
  {
   "cell_type": "markdown",
   "metadata": {},
   "source": [
    "## (c)"
   ]
  },
  {
   "cell_type": "code",
   "execution_count": 7,
   "metadata": {},
   "outputs": [
    {
     "data": {
      "image/png": "[encoded data removed]",
      "text/plain": [
       "<Figure size 432x288 with 1 Axes>"
      ]
     },
     "metadata": {
      "needs_background": "light"
     },
     "output_type": "display_data"
    }
   ],
   "source": [
    "x_train = pd.read_csv('x_train.csv',header=None)\n",
    "y_train = pd.read_csv('y_train.csv',header=None)\n",
    "x_test = pd.read_csv('x_test.csv',header=None)\n",
    "y_test = pd.read_csv('y_test.csv',header=None)\n",
    "plt.plot(x_train,y_train,'o')\n",
    "plt.title(\"x_train vs. y_train Plot\")\n",
    "plt.xlabel('x_train')\n",
    "plt.ylabel('y_train')\n",
    "plt.show()"
   ]
  },
  {
   "cell_type": "code",
   "execution_count": 8,
   "metadata": {},
   "outputs": [],
   "source": [
    "Xtrain = np.loadtxt(open(\"x_train.csv\"), delimiter=\",\")\n",
    "Ytrain = np.loadtxt(open(\"y_train.csv\"), delimiter=\",\")\n",
    "Xtrain=np.array([Xtrain])\n",
    "\n",
    "Xtest = np.loadtxt(open(\"x_test.csv\"), delimiter=\",\")\n",
    "Ytest = np.loadtxt(open(\"y_test.csv\"), delimiter=\",\")\n",
    "Xtest=np.array([Xtest])\n"
   ]
  },
  {
   "cell_type": "markdown",
   "metadata": {},
   "source": [
    "## (d) to (f)"
   ]
  },
  {
   "cell_type": "code",
   "execution_count": 9,
   "metadata": {
    "scrolled": false
   },
   "outputs": [
    {
     "name": "stdout",
     "output_type": "stream",
     "text": [
      "(d) to (f)\n",
      " \n",
      "degree= 1\n",
      "w_1 = [ 0.55787413 -0.23494215]\n",
      "MSE for training data= 0.6320445845059596\n",
      "MSE for testing data= 0.6807097919920292\n",
      " \n",
      "degree= 2\n",
      "w_2 = [ 1.40766343 -0.76698414  0.0532042 ]\n",
      "MSE for training data= 0.44836937486829886\n",
      "MSE for testing data= 0.4901401122690914\n",
      " \n",
      "degree= 3\n",
      "w_3 = [ 0.18301369  0.87201349 -0.36501611  0.02788135]\n",
      "MSE for training data= 0.10158531043884228\n",
      "MSE for testing data= 0.09673216746172512\n",
      " \n",
      "degree= 7\n",
      "w_7 = [ 1.39650609e-01  1.39453732e+00 -1.22891438e+00  5.21807583e-01\n",
      " -1.25503217e-01  1.52807303e-02 -8.47085153e-04  1.60809502e-05]\n",
      "MSE for training data= 0.06759853879817052\n",
      "MSE for testing data= 0.11453443791257105\n",
      " \n",
      "degree= 10\n",
      "w_10 = [-1.32140897e-03  6.54807892e+00 -1.64727692e+01  1.80574399e+01\n",
      " -1.06361191e+01  3.71880447e+00 -8.09989031e-01  1.10964194e-01\n",
      " -9.28970811e-03  4.33972718e-04 -8.66500766e-06]\n",
      "MSE for training data= 0.047899486286688324\n",
      "MSE for testing data= 0.13737987923467748\n"
     ]
    },
    {
     "data": {
      "image/png": "[encoded data removed]",
      "text/plain": [
       "<Figure size 432x288 with 1 Axes>"
      ]
     },
     "metadata": {
      "needs_background": "light"
     },
     "output_type": "display_data"
    }
   ],
   "source": [
    "print('(d) to (f)')\n",
    "degree=[1,2,3,7,10]\n",
    "MSE_array_train=[]\n",
    "MSE_array_test=[]\n",
    "for i in degree:\n",
    "    print(' ')\n",
    "    print('degree=',i)\n",
    "    arrayX=np.array([np.ones(Xtrain.shape[1])])\n",
    "    arrayX_test=np.array([np.ones(Xtest.shape[1])])\n",
    "    t=1\n",
    "    while t<=i:\n",
    "        a = np.power(Xtrain, t)\n",
    "        b = np.power(Xtest,t)\n",
    "        arrayX = np.append(arrayX, a, axis=0)\n",
    "        arrayX_test = np.append(arrayX_test, b, axis=0)\n",
    "        t+=1\n",
    "    arrayX=np.transpose(arrayX)\n",
    "    arrayX_test=np.transpose(arrayX_test)\n",
    "    XTX=(np.transpose(arrayX)).dot(arrayX)\n",
    "\n",
    "    pseu_X=(np.linalg.inv(XTX)).dot(np.transpose(arrayX))\n",
    "\n",
    "    w = pseu_X.dot(Ytrain)\n",
    "    print('w_{0}'.format(i),'=',w)\n",
    "    diff_train=(Ytrain-arrayX.dot(w))**2\n",
    "    diff_test=(Ytest-arrayX_test.dot(w))**2\n",
    "\n",
    "    RSS_train=0\n",
    "    for k in diff_train:\n",
    "        RSS_train=RSS_train+k\n",
    "    MSE_train=RSS_train/Xtrain.shape[1]\n",
    "    MSE_array_train.append(MSE_train)\n",
    "    print('MSE for training data=', MSE_train)\n",
    "\n",
    "    RSS_test=0\n",
    "    for k in diff_test:\n",
    "        RSS_test=RSS_test+k\n",
    "    MSE_test=RSS_test/Xtest.shape[1]\n",
    "    MSE_array_test.append(MSE_test)\n",
    "    print('MSE for testing data=',MSE_test)\n",
    "\n",
    "plt.plot(degree,MSE_array_train,'o-',color = 'purple',label=\"MSE for the training set\")\n",
    "plt.plot(degree,MSE_array_test,'s-',color = 'g',label=\"MSE for the test samples\")\n",
    "plt.title(\"error vs. polynomial degree Plot\")\n",
    "plt.xlabel('polynomial degree')\n",
    "plt.ylabel('error')\n",
    "plt.legend(loc = \"best\")\n",
    "plt.show()"
   ]
  },
  {
   "cell_type": "markdown",
   "metadata": {},
   "source": [
    "## (g) to (h)"
   ]
  },
  {
   "cell_type": "code",
   "execution_count": 10,
   "metadata": {},
   "outputs": [
    {
     "name": "stdout",
     "output_type": "stream",
     "text": [
      "(g) to (h)\n",
      " \n",
      "λ=1e-05\n",
      "w=[ 1.39722921e-01  1.39401408e+00 -1.22822858e+00  5.21447117e-01\n",
      " -1.25409400e-01  1.52678855e-02 -8.46198849e-04  1.60566533e-05]\n",
      "MSE for training data= 0.06759853950295464\n",
      "MSE for testing data== 0.1145319938565656\n",
      " \n",
      "λ=0.001\n",
      "w=[ 1.46571945e-01  1.34468114e+00 -1.16360342e+00  4.87488385e-01\n",
      " -1.16572787e-01  1.40582120e-02 -7.62738947e-04  1.37689111e-05]\n",
      "MSE for training data= 0.06760493124246075\n",
      "MSE for testing data== 0.114305809743716\n",
      " \n",
      "λ=0.1\n",
      "w=[ 2.67755191e-01  5.05409125e-01 -1.02239085e-01 -5.65926053e-02\n",
      "  2.24703563e-02 -4.71641834e-03  5.18727308e-04 -2.10549261e-05]\n",
      "MSE for training data= 0.06957497827418742\n",
      "MSE for testing data== 0.11266052126197641\n",
      " \n",
      "λ=1\n",
      "w=[ 2.83302387e-01  2.51242703e-01  6.83721523e-02 -7.68300115e-02\n",
      "  1.41197189e-02 -2.14577213e-03  2.64068828e-04 -1.23729062e-05]\n",
      "MSE for training data= 0.07199240965299532\n",
      "MSE for testing data== 0.11873599247653786\n",
      " \n",
      "λ=10\n",
      "w=[ 1.30648918e-01  1.07289570e-01  7.77265362e-02  2.03327705e-02\n",
      " -3.10453463e-02  6.03166173e-03 -4.02835140e-04  8.05983974e-06]\n",
      "MSE for training data= 0.08796191616493963\n",
      "MSE for testing data== 0.15008628713521455\n"
     ]
    },
    {
     "data": {
      "image/png": "[encoded data removed]",
      "text/plain": [
       "<Figure size 432x288 with 1 Axes>"
      ]
     },
     "metadata": {
      "needs_background": "light"
     },
     "output_type": "display_data"
    }
   ],
   "source": [
    "print('(g) to (h)')\n",
    "arrayX=np.array([np.ones(Xtrain.shape[1])])\n",
    "arrayX_test=np.array([np.ones(Xtest.shape[1])])\n",
    "t=1\n",
    "while t<=7:\n",
    "    a = np.power(Xtrain,t)\n",
    "    b = np.power(Xtest,t)\n",
    "    arrayX = np.append(arrayX, a, axis=0)\n",
    "    arrayX_test = np.append(arrayX_test, b, axis=0)\n",
    "    t+=1\n",
    "arrayX=np.transpose(arrayX)\n",
    "arrayX_test=np.transpose(arrayX_test)\n",
    "\n",
    "XTX=np.transpose(arrayX).dot(arrayX)\n",
    "I=np.identity(XTX.shape[0])\n",
    "lamb=[1/(10**5), 1/(10**3), 1/10, 1, 10]\n",
    "MSE_ridge_train=[]\n",
    "MSE_ridge_test=[]\n",
    "for i in lamb:\n",
    "    pseu_X=(np.linalg.inv(i*I+XTX)).dot(np.transpose(arrayX))\n",
    "    w_ridge=pseu_X.dot(Ytrain)\n",
    "    print(' ')\n",
    "    print('λ={0}'.format(i))\n",
    "    print('w={0}'.format(w_ridge))\n",
    "    diff_train = (Ytrain - arrayX.dot(w_ridge)) ** 2\n",
    "    diff_test = (Ytest - arrayX_test.dot(w_ridge)) ** 2\n",
    "\n",
    "    MSE_train = sum(diff_train) / diff_train.size\n",
    "    MSE_ridge_train.append(MSE_train)\n",
    "    print('MSE for training data=', MSE_train)\n",
    "\n",
    "    MSE_test = sum(diff_test) / diff_test.size\n",
    "    MSE_ridge_test.append(MSE_test)\n",
    "    print('MSE for testing data==', MSE_test)\n",
    "\n",
    "\n",
    "plt.plot(np.log10(lamb),MSE_ridge_train,'o-',color = 'skyblue',label=\"MSE for the training set\")\n",
    "plt.plot(np.log10(lamb),MSE_ridge_test,'s-',color = 'g',label=\"MSE for the test samples\")\n",
    "plt.title(\"MSE vs. log(λ) Plot  (Ridge Regression)\")\n",
    "plt.xlabel('log(λ)')\n",
    "plt.ylabel('MSE')\n",
    "plt.legend(loc = \"best\")\n",
    "plt.show()"
   ]
  }
 ],
 "metadata": {
  "kernelspec": {
   "display_name": "Python 3",
   "language": "python",
   "name": "python3"
  },
  "language_info": {
   "codemirror_mode": {
    "name": "ipython",
    "version": 3
   },
   "file_extension": ".py",
   "mimetype": "text/x-python",
   "name": "python",
   "nbconvert_exporter": "python",
   "pygments_lexer": "ipython3",
   "version": "3.6.10"
  }
 },
 "nbformat": 4,
 "nbformat_minor": 4
}
